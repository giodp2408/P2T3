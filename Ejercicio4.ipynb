{
  "nbformat": 4,
  "nbformat_minor": 0,
  "metadata": {
    "colab": {
      "name": "Ejercicio4.ipynb",
      "provenance": [],
      "collapsed_sections": [],
      "authorship_tag": "ABX9TyOcmQzLhDSUz+wRs6w5iPaV",
      "include_colab_link": true
    },
    "kernelspec": {
      "name": "python3",
      "display_name": "Python 3"
    },
    "language_info": {
      "name": "python"
    }
  },
  "cells": [
    {
      "cell_type": "markdown",
      "metadata": {
        "id": "view-in-github",
        "colab_type": "text"
      },
      "source": [
        "<a href=\"https://colab.research.google.com/github/giodp2408/P2T3/blob/main/Ejercicio4.ipynb\" target=\"_parent\"><img src=\"https://colab.research.google.com/assets/colab-badge.svg\" alt=\"Open In Colab\"/></a>"
      ]
    },
    {
      "cell_type": "markdown",
      "metadata": {
        "id": "Xb6ciN6N8Hos"
      },
      "source": [
        "### **Ejercicio 4**\n",
        "\n",
        "###### Escribir programa que genere y muestre por pantalla un DataFrame con los datos de la tabla."
      ]
    },
    {
      "cell_type": "code",
      "metadata": {
        "colab": {
          "base_uri": "https://localhost:8080/"
        },
        "id": "xw3hZbR58Hxy",
        "outputId": "5f3d9e55-ed3c-418c-e433-4d5910b3c69b"
      },
      "source": [
        "# Se importa la libreria\n",
        "import pandas as pd\n",
        "\n",
        "# En una variable se almacena los datos de la tabla\n",
        "datos = {'Mes':['Enero', 'Febrero', 'Marzo', 'Abril'], 'Ventas':[30500, 35600, 28300, 33900], 'Gastos':[22000, 23400, 18100, 20700]}\n",
        "# Con pandas, la tabla se almacena en un DataFrame\n",
        "resultado = pd.DataFrame(datos)\n",
        "# Se imprime el DataFrame\n",
        "print(resultado)"
      ],
      "execution_count": 2,
      "outputs": [
        {
          "output_type": "stream",
          "text": [
            "       Mes  Ventas  Gastos\n",
            "0    Enero   30500   22000\n",
            "1  Febrero   35600   23400\n",
            "2    Marzo   28300   18100\n",
            "3    Abril   33900   20700\n"
          ],
          "name": "stdout"
        }
      ]
    }
  ]
}