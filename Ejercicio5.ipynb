{
  "nbformat": 4,
  "nbformat_minor": 0,
  "metadata": {
    "colab": {
      "name": "Ejercicio5.ipynb",
      "provenance": [],
      "collapsed_sections": [],
      "authorship_tag": "ABX9TyM/jlfD0NItbHDh4vvkKij8",
      "include_colab_link": true
    },
    "kernelspec": {
      "name": "python3",
      "display_name": "Python 3"
    },
    "language_info": {
      "name": "python"
    }
  },
  "cells": [
    {
      "cell_type": "markdown",
      "metadata": {
        "id": "view-in-github",
        "colab_type": "text"
      },
      "source": [
        "<a href=\"https://colab.research.google.com/github/giodp2408/P2T3/blob/main/Ejercicio5.ipynb\" target=\"_parent\"><img src=\"https://colab.research.google.com/assets/colab-badge.svg\" alt=\"Open In Colab\"/></a>"
      ]
    },
    {
      "cell_type": "markdown",
      "metadata": {
        "id": "Xb6ciN6N8Hos"
      },
      "source": [
        "### **Ejercicio 5**\n",
        "\n",
        "###### Escribir una función que reciba un DataFrame con el formato del ejercicio anterior, una lista de meses, y devuelva el balance (ventas - gastos) total en los meses indicados."
      ]
    },
    {
      "cell_type": "code",
      "metadata": {
        "colab": {
          "base_uri": "https://localhost:8080/"
        },
        "id": "xw3hZbR58Hxy",
        "outputId": "68d6e33a-200d-4afc-a270-00ad3e7d6eeb"
      },
      "source": [
        "# Se importa la libreria\n",
        "import pandas as pd\n",
        "\n",
        "# En una variable se almacena los datos de la tabla y meses seleccionado\n",
        "tabla = {'Mes':['Enero', 'Febrero', 'Marzo', 'Abril'], 'Ventas':[30500, 35600, 28300, 33900], 'Gastos':[22000, 23400, 18100, 20700]}\n",
        "meses = ['Enero','Marzo','Abril']\n",
        "\n",
        "# Con pandas, la tabla se almacena en un DataFrame\n",
        "datos = pd.DataFrame(tabla)\n",
        "\n",
        "# Se crea la función que realiza las operaciones\n",
        "def balance(datos, meses):\n",
        "    datos['Balance'] = datos.Ventas - datos.Gastos\n",
        "    resultado = datos[datos.Mes.isin(meses)].Balance.sum()\n",
        "    return resultado\n",
        "\n",
        "# Se imprime el resultado\n",
        "print('El balance es: ', balance(datos, meses))"
      ],
      "execution_count": 6,
      "outputs": [
        {
          "output_type": "stream",
          "text": [
            "El balance es:  31900\n"
          ],
          "name": "stdout"
        }
      ]
    }
  ]
}