{
  "nbformat": 4,
  "nbformat_minor": 0,
  "metadata": {
    "colab": {
      "name": "Ejercicio3.ipynb",
      "provenance": [],
      "collapsed_sections": [],
      "authorship_tag": "ABX9TyMSZG4hRnJLRMZGn3BPGc9B",
      "include_colab_link": true
    },
    "kernelspec": {
      "name": "python3",
      "display_name": "Python 3"
    },
    "language_info": {
      "name": "python"
    }
  },
  "cells": [
    {
      "cell_type": "markdown",
      "metadata": {
        "id": "view-in-github",
        "colab_type": "text"
      },
      "source": [
        "<a href=\"https://colab.research.google.com/github/giodp2408/P2T3/blob/main/Ejercicio3.ipynb\" target=\"_parent\"><img src=\"https://colab.research.google.com/assets/colab-badge.svg\" alt=\"Open In Colab\"/></a>"
      ]
    },
    {
      "cell_type": "markdown",
      "metadata": {
        "id": "Xb6ciN6N8Hos"
      },
      "source": [
        "### **Ejercicio 3**\n",
        "\n",
        "###### Escribir una función que reciba un diccionario con las notas de los alumnos en curso en un examen y devuelva una serie con las notas de los alumnos aprobados ordenadas de mayor a menor."
      ]
    },
    {
      "cell_type": "code",
      "metadata": {
        "colab": {
          "base_uri": "https://localhost:8080/"
        },
        "id": "xw3hZbR58Hxy",
        "outputId": "73897aa7-c5bc-4897-9975-5d2a1281a907"
      },
      "source": [
        "# Se importa la libreria\n",
        "import pandas as pd\n",
        "# Se crea una variable que almacena el diccionario\n",
        "dicc = {'Giovanny':7.5, 'Erick':8, 'Jesus':4.5, 'Santi': 8.5, 'Andres': 6}\n",
        "\n",
        "# Se crea la función que realiza las operaciones\n",
        "def alumnos(dicc):\n",
        "  # Se indexa la libreria \n",
        "  notas = pd.Series(dicc)\n",
        "  # Se almacena en variable los alumnos aprobados \n",
        "  # con calificación arriba de 6\n",
        "  resultado = notas[notas >= 6].sort_values(ascending=False)\n",
        "  return resultado\n",
        "\n",
        "# Se imprime el resultado de las funciones\n",
        "print(alumnos(dicc))"
      ],
      "execution_count": 8,
      "outputs": [
        {
          "output_type": "stream",
          "text": [
            "Santi       8.5\n",
            "Erick       8.0\n",
            "Giovanny    7.5\n",
            "Andres      6.0\n",
            "dtype: float64\n"
          ],
          "name": "stdout"
        }
      ]
    }
  ]
}