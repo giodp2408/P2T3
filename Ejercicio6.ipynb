{
  "nbformat": 4,
  "nbformat_minor": 0,
  "metadata": {
    "colab": {
      "name": "Ejercicio6.ipynb",
      "provenance": [],
      "collapsed_sections": [],
      "authorship_tag": "ABX9TyNFpQWyTGOc03XKtB7UkfqW",
      "include_colab_link": true
    },
    "kernelspec": {
      "name": "python3",
      "display_name": "Python 3"
    },
    "language_info": {
      "name": "python"
    }
  },
  "cells": [
    {
      "cell_type": "markdown",
      "metadata": {
        "id": "view-in-github",
        "colab_type": "text"
      },
      "source": [
        "<a href=\"https://colab.research.google.com/github/giodp2408/P2T3/blob/main/Ejercicio6.ipynb\" target=\"_parent\"><img src=\"https://colab.research.google.com/assets/colab-badge.svg\" alt=\"Open In Colab\"/></a>"
      ]
    },
    {
      "cell_type": "markdown",
      "metadata": {
        "id": "Xb6ciN6N8Hos"
      },
      "source": [
        "### **Ejercicio 6**\n",
        "\n",
        "###### El fichero cotizacion.csv contiene las cotizaciones de las empresas del IBEX35 con las siguientes columnas: nombre (nombre de la empresa), Final (precio de la acción al cierre de bolsa), Máximo (precio máximo de la acción durante la jornada), Mínimo (precio mínimo de la acción durante la jornada), volumen (Volumen al cierre de bolsa), Efectivo (capitalización al cierre en miles de euros). Construir una función que construya un DataFrame a partir de un fichero con el formato anterior y devuelva otro DataFrame con el mínimo, el máximo y la media de dada columna."
      ]
    },
    {
      "cell_type": "code",
      "metadata": {
        "colab": {
          "base_uri": "https://localhost:8080/",
          "height": 143
        },
        "id": "xw3hZbR58Hxy",
        "outputId": "6967eed1-f800-4a55-faf1-84130c09a7af"
      },
      "source": [
        "# Se importa la libreria\n",
        "import pandas as pd\n",
        "\n",
        "# Se almacena en una variable el link donde esta el CSV \n",
        "fichero = 'https://raw.githubusercontent.com/giodp2408/P2T3/main/Archivos/cotizacion.csv'\n",
        "\n",
        "# Se crea la función que hara las operaciones\n",
        "def cotizar(fichero):\n",
        "    # Se almacena el CSV como un dataframe dentro de la variable\n",
        "    df = pd.read_csv(fichero, sep=';', decimal=',', thousands='.', index_col=0)\n",
        "    # Con pandas se obtiene el minimo, mmaximo y media dentro de un dataframe nuevo\n",
        "    resultado = pd.DataFrame([df.min(), df.max(), df.mean()], index=['Mínimo', 'Máximo', 'Media'])\n",
        "    return resultado\n",
        "\n",
        "# Se ejecuta la función y devuelve el resultado\n",
        "cotizar(fichero)"
      ],
      "execution_count": 2,
      "outputs": [
        {
          "output_type": "execute_result",
          "data": {
            "text/html": [
              "<div>\n",
              "<style scoped>\n",
              "    .dataframe tbody tr th:only-of-type {\n",
              "        vertical-align: middle;\n",
              "    }\n",
              "\n",
              "    .dataframe tbody tr th {\n",
              "        vertical-align: top;\n",
              "    }\n",
              "\n",
              "    .dataframe thead th {\n",
              "        text-align: right;\n",
              "    }\n",
              "</style>\n",
              "<table border=\"1\" class=\"dataframe\">\n",
              "  <thead>\n",
              "    <tr style=\"text-align: right;\">\n",
              "      <th></th>\n",
              "      <th>Final</th>\n",
              "      <th>Máximo</th>\n",
              "      <th>Mínimo</th>\n",
              "      <th>Volumen</th>\n",
              "      <th>Efectivo</th>\n",
              "    </tr>\n",
              "  </thead>\n",
              "  <tbody>\n",
              "    <tr>\n",
              "      <th>Mínimo</th>\n",
              "      <td>1.016500</td>\n",
              "      <td>4.067500</td>\n",
              "      <td>1.016500</td>\n",
              "      <td>1.221000e+03</td>\n",
              "      <td>2343.090</td>\n",
              "    </tr>\n",
              "    <tr>\n",
              "      <th>Máximo</th>\n",
              "      <td>19705.000000</td>\n",
              "      <td>19875.000000</td>\n",
              "      <td>19675.000000</td>\n",
              "      <td>3.612969e+07</td>\n",
              "      <td>145765.440</td>\n",
              "    </tr>\n",
              "    <tr>\n",
              "      <th>Media</th>\n",
              "      <td>2796.768757</td>\n",
              "      <td>3170.113357</td>\n",
              "      <td>3136.510471</td>\n",
              "      <td>4.252279e+06</td>\n",
              "      <td>31767.778</td>\n",
              "    </tr>\n",
              "  </tbody>\n",
              "</table>\n",
              "</div>"
            ],
            "text/plain": [
              "               Final        Máximo        Mínimo       Volumen    Efectivo\n",
              "Mínimo      1.016500      4.067500      1.016500  1.221000e+03    2343.090\n",
              "Máximo  19705.000000  19875.000000  19675.000000  3.612969e+07  145765.440\n",
              "Media    2796.768757   3170.113357   3136.510471  4.252279e+06   31767.778"
            ]
          },
          "metadata": {
            "tags": []
          },
          "execution_count": 2
        }
      ]
    }
  ]
}