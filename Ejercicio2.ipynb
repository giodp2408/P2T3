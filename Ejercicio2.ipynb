{
  "nbformat": 4,
  "nbformat_minor": 0,
  "metadata": {
    "colab": {
      "name": "Ejercicio2.ipynb",
      "provenance": [],
      "collapsed_sections": [],
      "authorship_tag": "ABX9TyMBjaR1OA81dWi6wvnFm3P+",
      "include_colab_link": true
    },
    "kernelspec": {
      "name": "python3",
      "display_name": "Python 3"
    },
    "language_info": {
      "name": "python"
    }
  },
  "cells": [
    {
      "cell_type": "markdown",
      "metadata": {
        "id": "view-in-github",
        "colab_type": "text"
      },
      "source": [
        "<a href=\"https://colab.research.google.com/github/giodp2408/P2T3/blob/main/Ejercicio2.ipynb\" target=\"_parent\"><img src=\"https://colab.research.google.com/assets/colab-badge.svg\" alt=\"Open In Colab\"/></a>"
      ]
    },
    {
      "cell_type": "markdown",
      "metadata": {
        "id": "Xb6ciN6N8Hos"
      },
      "source": [
        "### **Ejercicio 2**\n",
        "\n",
        "###### Escribir una función que reciba un diccionario con las notas de los alumnos en curso en un examen y devuelva una serie con la nota mínima, la máxima, media y la desviación típica."
      ]
    },
    {
      "cell_type": "code",
      "metadata": {
        "colab": {
          "base_uri": "https://localhost:8080/"
        },
        "id": "xw3hZbR58Hxy",
        "outputId": "533b8529-525a-4137-f255-d8be1a5e3401"
      },
      "source": [
        "# Se importa la libreria\n",
        "import pandas as pd\n",
        "# Se crea una variable que almacena el diccionario\n",
        "dicc = {'Giovanny':7.5, 'Erick':8, 'Jesus':4.5, 'Santi': 8.5, 'Andres': 6}\n",
        "\n",
        "# Se crea la función que\n",
        "def estadistica(dicc):\n",
        "    # Se indexa el diccionario con pandas\n",
        "    dicc = pd.Series(dicc)\n",
        "    # Dentro de la variable se almacena los resultados de la maxima, media\n",
        "    # minima y desviación usando la libreria pandas\n",
        "    resultado = pd.Series([dicc.min(), dicc.max(), dicc.mean(), dicc.std()], index=['Min', 'Max', 'Media', 'Desviación típica'])\n",
        "    return resultado\n",
        "\n",
        "# Se imprime el resultado de la función\n",
        "print(estadistica(dicc))"
      ],
      "execution_count": 4,
      "outputs": [
        {
          "output_type": "stream",
          "text": [
            "Min                  4.500000\n",
            "Max                  8.500000\n",
            "Media                6.900000\n",
            "Desviación típica    1.635543\n",
            "dtype: float64\n"
          ],
          "name": "stdout"
        }
      ]
    }
  ]
}