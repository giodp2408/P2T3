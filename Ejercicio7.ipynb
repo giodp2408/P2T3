{
  "nbformat": 4,
  "nbformat_minor": 0,
  "metadata": {
    "colab": {
      "name": "Ejercicio7.ipynb",
      "provenance": [],
      "collapsed_sections": [],
      "authorship_tag": "ABX9TyOKsDfZf/TluSARlcaY/VZd",
      "include_colab_link": true
    },
    "kernelspec": {
      "name": "python3",
      "display_name": "Python 3"
    },
    "language_info": {
      "name": "python"
    }
  },
  "cells": [
    {
      "cell_type": "markdown",
      "metadata": {
        "id": "view-in-github",
        "colab_type": "text"
      },
      "source": [
        "<a href=\"https://colab.research.google.com/github/giodp2408/P2T3/blob/main/Ejercicio7.ipynb\" target=\"_parent\"><img src=\"https://colab.research.google.com/assets/colab-badge.svg\" alt=\"Open In Colab\"/></a>"
      ]
    },
    {
      "cell_type": "markdown",
      "metadata": {
        "id": "Xb6ciN6N8Hos"
      },
      "source": [
        "### **Ejercicio 7**\n",
        "\n",
        "###### El fichero titanic.csv contiene información sobre los pasajeros del Titanic. Escribir un programa con los siguientes requisitos:\n"
      ]
    },
    {
      "cell_type": "markdown",
      "metadata": {
        "id": "Z4NgDpKVIKcW"
      },
      "source": [
        "#### 1. Generar un DataFrame con los datos del fichero.\n"
      ]
    },
    {
      "cell_type": "code",
      "metadata": {
        "colab": {
          "base_uri": "https://localhost:8080/"
        },
        "id": "xw3hZbR58Hxy",
        "outputId": "1713d36c-10ad-44c7-8e2a-9578bb36ec30"
      },
      "source": [
        "# Se importa la libreria\n",
        "import pandas as pd\n",
        "\n",
        "# Generar un DataFrame con los datos del fichero.\n",
        "titanic = pd.read_csv('https://raw.githubusercontent.com/giodp2408/P2T3/main/Archivos/titanic.csv', index_col=0)\n",
        "\n",
        "print(titanic)"
      ],
      "execution_count": 2,
      "outputs": [
        {
          "output_type": "stream",
          "text": [
            "             Survived  Pclass  ... Cabin Embarked\n",
            "PassengerId                    ...               \n",
            "1                   0       3  ...   NaN        S\n",
            "2                   1       1  ...   C85        C\n",
            "3                   1       3  ...   NaN        S\n",
            "4                   1       1  ...  C123        S\n",
            "5                   0       3  ...   NaN        S\n",
            "...               ...     ...  ...   ...      ...\n",
            "887                 0       2  ...   NaN        S\n",
            "888                 1       1  ...   B42        S\n",
            "889                 0       3  ...   NaN        S\n",
            "890                 1       1  ...  C148        C\n",
            "891                 0       3  ...   NaN        Q\n",
            "\n",
            "[891 rows x 11 columns]\n"
          ],
          "name": "stdout"
        }
      ]
    },
    {
      "cell_type": "markdown",
      "metadata": {
        "id": "ODb6TWHjIQrW"
      },
      "source": [
        "#### 2. Mostrar por pantalla las dimensiones del DataFrame, el número de datos que contiene, los nombres de sus columnas y filas, los tipos de datos de las columnas, las 10 primeras filas y las 10 últimas filas\n"
      ]
    },
    {
      "cell_type": "code",
      "metadata": {
        "colab": {
          "base_uri": "https://localhost:8080/"
        },
        "id": "S7Q3Xyf9IQ3t",
        "outputId": "77eea01d-e9c0-474e-df68-9691598d54a2"
      },
      "source": [
        "# Mostrar por pantalla las dimensiones del DataFrame, el número de datos que contiene, los nombres de sus columnas y filas, los tipos de datos de las columnas, las 10 primeras filas y las 10 últimas filas.\n",
        "print('Dimensiones:', titanic.shape)\n",
        "print('Número de elemntos:', titanic.size)\n",
        "print('Nombres de columnas:', titanic.columns)\n",
        "print('Nombres de filas:', titanic.index)\n",
        "print('Tipos de datos:\\n', titanic.dtypes)\n",
        "print('Primeras 10 filas:\\n', titanic.head(10))\n",
        "print('Últimas 10 filas:\\n', titanic.tail(10))"
      ],
      "execution_count": 3,
      "outputs": [
        {
          "output_type": "stream",
          "text": [
            "Dimensiones: (891, 11)\n",
            "Número de elemntos: 9801\n",
            "Nombres de columnas: Index(['Survived', 'Pclass', 'Name', 'Sex', 'Age', 'SibSp', 'Parch', 'Ticket',\n",
            "       'Fare', 'Cabin', 'Embarked'],\n",
            "      dtype='object')\n",
            "Nombres de filas: Int64Index([  1,   2,   3,   4,   5,   6,   7,   8,   9,  10,\n",
            "            ...\n",
            "            882, 883, 884, 885, 886, 887, 888, 889, 890, 891],\n",
            "           dtype='int64', name='PassengerId', length=891)\n",
            "Tipos de datos:\n",
            " Survived      int64\n",
            "Pclass        int64\n",
            "Name         object\n",
            "Sex          object\n",
            "Age         float64\n",
            "SibSp         int64\n",
            "Parch         int64\n",
            "Ticket       object\n",
            "Fare        float64\n",
            "Cabin        object\n",
            "Embarked     object\n",
            "dtype: object\n",
            "Primeras 10 filas:\n",
            "              Survived  Pclass  ... Cabin Embarked\n",
            "PassengerId                    ...               \n",
            "1                   0       3  ...   NaN        S\n",
            "2                   1       1  ...   C85        C\n",
            "3                   1       3  ...   NaN        S\n",
            "4                   1       1  ...  C123        S\n",
            "5                   0       3  ...   NaN        S\n",
            "6                   0       3  ...   NaN        Q\n",
            "7                   0       1  ...   E46        S\n",
            "8                   0       3  ...   NaN        S\n",
            "9                   1       3  ...   NaN        S\n",
            "10                  1       2  ...   NaN        C\n",
            "\n",
            "[10 rows x 11 columns]\n",
            "Últimas 10 filas:\n",
            "              Survived  Pclass  ... Cabin Embarked\n",
            "PassengerId                    ...               \n",
            "882                 0       3  ...   NaN        S\n",
            "883                 0       3  ...   NaN        S\n",
            "884                 0       2  ...   NaN        S\n",
            "885                 0       3  ...   NaN        S\n",
            "886                 0       3  ...   NaN        Q\n",
            "887                 0       2  ...   NaN        S\n",
            "888                 1       1  ...   B42        S\n",
            "889                 0       3  ...   NaN        S\n",
            "890                 1       1  ...  C148        C\n",
            "891                 0       3  ...   NaN        Q\n",
            "\n",
            "[10 rows x 11 columns]\n"
          ],
          "name": "stdout"
        }
      ]
    },
    {
      "cell_type": "markdown",
      "metadata": {
        "id": "NBDa0B1qIlhQ"
      },
      "source": [
        "#### 3. Mostrar por pantalla los datos del pasajero con identificador 148."
      ]
    },
    {
      "cell_type": "code",
      "metadata": {
        "colab": {
          "base_uri": "https://localhost:8080/"
        },
        "id": "Y_q9s8-5Ilvw",
        "outputId": "fd8853d5-c0e9-4556-e5ac-a3551e949b7d"
      },
      "source": [
        "# Mostrar por pantalla los datos del pasajero con identificador 148\n",
        "print(titanic.loc[148])"
      ],
      "execution_count": 4,
      "outputs": [
        {
          "output_type": "stream",
          "text": [
            "Survived                                   0\n",
            "Pclass                                     3\n",
            "Name        Ford, Miss. Robina Maggie \"Ruby\"\n",
            "Sex                                   female\n",
            "Age                                        9\n",
            "SibSp                                      2\n",
            "Parch                                      2\n",
            "Ticket                            W./C. 6608\n",
            "Fare                                  34.375\n",
            "Cabin                                    NaN\n",
            "Embarked                                   S\n",
            "Name: 148, dtype: object\n"
          ],
          "name": "stdout"
        }
      ]
    },
    {
      "cell_type": "markdown",
      "metadata": {
        "id": "Je5n2LQaJhKD"
      },
      "source": [
        "#### 4. Mostrar por pantalla las filas pares del DataFrame.\n"
      ]
    },
    {
      "cell_type": "code",
      "metadata": {
        "colab": {
          "base_uri": "https://localhost:8080/"
        },
        "id": "SqRRxTrtJhZs",
        "outputId": "e42226e7-3ebb-41fd-996a-4ac0c24cc560"
      },
      "source": [
        "# Mostrar por pantalla las filas pares del DataFrame.\n",
        "print(titanic.iloc[range(0,titanic.shape[0],2)])"
      ],
      "execution_count": 5,
      "outputs": [
        {
          "output_type": "stream",
          "text": [
            "             Survived  Pclass  ... Cabin Embarked\n",
            "PassengerId                    ...               \n",
            "1                   0       3  ...   NaN        S\n",
            "3                   1       3  ...   NaN        S\n",
            "5                   0       3  ...   NaN        S\n",
            "7                   0       1  ...   E46        S\n",
            "9                   1       3  ...   NaN        S\n",
            "...               ...     ...  ...   ...      ...\n",
            "883                 0       3  ...   NaN        S\n",
            "885                 0       3  ...   NaN        S\n",
            "887                 0       2  ...   NaN        S\n",
            "889                 0       3  ...   NaN        S\n",
            "891                 0       3  ...   NaN        Q\n",
            "\n",
            "[446 rows x 11 columns]\n"
          ],
          "name": "stdout"
        }
      ]
    },
    {
      "cell_type": "markdown",
      "metadata": {
        "id": "mI1O0tUYJo-_"
      },
      "source": [
        "#### 5. Mostrar por pantalla los nombres de las personas que iban en primera clase ordenadas alfabéticamente.\n"
      ]
    },
    {
      "cell_type": "code",
      "metadata": {
        "colab": {
          "base_uri": "https://localhost:8080/"
        },
        "id": "XlVPcEtrJpJ2",
        "outputId": "81f4963f-91f8-425e-e09b-6fd28df9ac8d"
      },
      "source": [
        "# Mostrar los nombres de las personas que iban en primera clase ordenadas alfabéticamente.\n",
        "print(titanic[titanic[\"Pclass\"]==1]['Name'].sort_values())"
      ],
      "execution_count": 6,
      "outputs": [
        {
          "output_type": "stream",
          "text": [
            "PassengerId\n",
            "731                      Allen, Miss. Elisabeth Walton\n",
            "306                     Allison, Master. Hudson Trevor\n",
            "298                       Allison, Miss. Helen Loraine\n",
            "499    Allison, Mrs. Hudson J C (Bessie Waldo Daniels)\n",
            "461                                Anderson, Mr. Harry\n",
            "                            ...                       \n",
            "156                        Williams, Mr. Charles Duane\n",
            "352             Williams-Lambert, Mr. Fletcher Fellows\n",
            "56                                   Woolner, Mr. Hugh\n",
            "556                                 Wright, Mr. George\n",
            "326                           Young, Miss. Marie Grice\n",
            "Name: Name, Length: 216, dtype: object\n"
          ],
          "name": "stdout"
        }
      ]
    },
    {
      "cell_type": "markdown",
      "metadata": {
        "id": "Q2uquxcnJwxb"
      },
      "source": [
        "6. Mostrar por pantalla el porcentaje de personas que sobrevivieron y murieron.\n"
      ]
    },
    {
      "cell_type": "code",
      "metadata": {
        "colab": {
          "base_uri": "https://localhost:8080/"
        },
        "id": "Vnl1r1k6Jw6a",
        "outputId": "7911a9f6-7ff5-4deb-dd48-6624c9484b24"
      },
      "source": [
        "# Mostrar por pantalla el porcentaje de personas que sobrevivieron y murieron\n",
        "print(titanic['Survived'].value_counts(normalize=True) * 100)"
      ],
      "execution_count": 7,
      "outputs": [
        {
          "output_type": "stream",
          "text": [
            "0    61.616162\n",
            "1    38.383838\n",
            "Name: Survived, dtype: float64\n"
          ],
          "name": "stdout"
        }
      ]
    },
    {
      "cell_type": "markdown",
      "metadata": {
        "id": "Zdp-eMHgJ6C3"
      },
      "source": [
        "#### 7. Mostrar por pantalla el porcentaje de personas que sobrevivieron en cada clase.\n"
      ]
    },
    {
      "cell_type": "code",
      "metadata": {
        "colab": {
          "base_uri": "https://localhost:8080/"
        },
        "id": "iKqeQV_CJ6N4",
        "outputId": "0f3e8367-7199-427a-b7b6-e7a81073a4ca"
      },
      "source": [
        "#Mostrar por pantalla el porcentaje de personas que sobrevivieron en cada clase\n",
        "print(titanic.groupby('Pclass')['Survived'].value_counts(normalize=True))"
      ],
      "execution_count": 8,
      "outputs": [
        {
          "output_type": "stream",
          "text": [
            "Pclass  Survived\n",
            "1       1           0.629630\n",
            "        0           0.370370\n",
            "2       0           0.527174\n",
            "        1           0.472826\n",
            "3       0           0.757637\n",
            "        1           0.242363\n",
            "Name: Survived, dtype: float64\n"
          ],
          "name": "stdout"
        }
      ]
    },
    {
      "cell_type": "markdown",
      "metadata": {
        "id": "xLi91ks0KCFC"
      },
      "source": [
        "#### 8. Eliminar del DataFrame los pasajeros con edad desconocida.\n"
      ]
    },
    {
      "cell_type": "code",
      "metadata": {
        "colab": {
          "base_uri": "https://localhost:8080/",
          "height": 455
        },
        "id": "4A7R97oIKCST",
        "outputId": "8a495cf7-bffd-482b-9eb0-1b9db5f95483"
      },
      "source": [
        "# Eliminar del DataFrame los pasajeros con edad desconocida.\n",
        "titanic.dropna(subset=['Age'])"
      ],
      "execution_count": 9,
      "outputs": [
        {
          "output_type": "execute_result",
          "data": {
            "text/html": [
              "<div>\n",
              "<style scoped>\n",
              "    .dataframe tbody tr th:only-of-type {\n",
              "        vertical-align: middle;\n",
              "    }\n",
              "\n",
              "    .dataframe tbody tr th {\n",
              "        vertical-align: top;\n",
              "    }\n",
              "\n",
              "    .dataframe thead th {\n",
              "        text-align: right;\n",
              "    }\n",
              "</style>\n",
              "<table border=\"1\" class=\"dataframe\">\n",
              "  <thead>\n",
              "    <tr style=\"text-align: right;\">\n",
              "      <th></th>\n",
              "      <th>Survived</th>\n",
              "      <th>Pclass</th>\n",
              "      <th>Name</th>\n",
              "      <th>Sex</th>\n",
              "      <th>Age</th>\n",
              "      <th>SibSp</th>\n",
              "      <th>Parch</th>\n",
              "      <th>Ticket</th>\n",
              "      <th>Fare</th>\n",
              "      <th>Cabin</th>\n",
              "      <th>Embarked</th>\n",
              "    </tr>\n",
              "    <tr>\n",
              "      <th>PassengerId</th>\n",
              "      <th></th>\n",
              "      <th></th>\n",
              "      <th></th>\n",
              "      <th></th>\n",
              "      <th></th>\n",
              "      <th></th>\n",
              "      <th></th>\n",
              "      <th></th>\n",
              "      <th></th>\n",
              "      <th></th>\n",
              "      <th></th>\n",
              "    </tr>\n",
              "  </thead>\n",
              "  <tbody>\n",
              "    <tr>\n",
              "      <th>1</th>\n",
              "      <td>0</td>\n",
              "      <td>3</td>\n",
              "      <td>Braund, Mr. Owen Harris</td>\n",
              "      <td>male</td>\n",
              "      <td>22.0</td>\n",
              "      <td>1</td>\n",
              "      <td>0</td>\n",
              "      <td>A/5 21171</td>\n",
              "      <td>7.2500</td>\n",
              "      <td>NaN</td>\n",
              "      <td>S</td>\n",
              "    </tr>\n",
              "    <tr>\n",
              "      <th>2</th>\n",
              "      <td>1</td>\n",
              "      <td>1</td>\n",
              "      <td>Cumings, Mrs. John Bradley (Florence Briggs Th...</td>\n",
              "      <td>female</td>\n",
              "      <td>38.0</td>\n",
              "      <td>1</td>\n",
              "      <td>0</td>\n",
              "      <td>PC 17599</td>\n",
              "      <td>71.2833</td>\n",
              "      <td>C85</td>\n",
              "      <td>C</td>\n",
              "    </tr>\n",
              "    <tr>\n",
              "      <th>3</th>\n",
              "      <td>1</td>\n",
              "      <td>3</td>\n",
              "      <td>Heikkinen, Miss. Laina</td>\n",
              "      <td>female</td>\n",
              "      <td>26.0</td>\n",
              "      <td>0</td>\n",
              "      <td>0</td>\n",
              "      <td>STON/O2. 3101282</td>\n",
              "      <td>7.9250</td>\n",
              "      <td>NaN</td>\n",
              "      <td>S</td>\n",
              "    </tr>\n",
              "    <tr>\n",
              "      <th>4</th>\n",
              "      <td>1</td>\n",
              "      <td>1</td>\n",
              "      <td>Futrelle, Mrs. Jacques Heath (Lily May Peel)</td>\n",
              "      <td>female</td>\n",
              "      <td>35.0</td>\n",
              "      <td>1</td>\n",
              "      <td>0</td>\n",
              "      <td>113803</td>\n",
              "      <td>53.1000</td>\n",
              "      <td>C123</td>\n",
              "      <td>S</td>\n",
              "    </tr>\n",
              "    <tr>\n",
              "      <th>5</th>\n",
              "      <td>0</td>\n",
              "      <td>3</td>\n",
              "      <td>Allen, Mr. William Henry</td>\n",
              "      <td>male</td>\n",
              "      <td>35.0</td>\n",
              "      <td>0</td>\n",
              "      <td>0</td>\n",
              "      <td>373450</td>\n",
              "      <td>8.0500</td>\n",
              "      <td>NaN</td>\n",
              "      <td>S</td>\n",
              "    </tr>\n",
              "    <tr>\n",
              "      <th>...</th>\n",
              "      <td>...</td>\n",
              "      <td>...</td>\n",
              "      <td>...</td>\n",
              "      <td>...</td>\n",
              "      <td>...</td>\n",
              "      <td>...</td>\n",
              "      <td>...</td>\n",
              "      <td>...</td>\n",
              "      <td>...</td>\n",
              "      <td>...</td>\n",
              "      <td>...</td>\n",
              "    </tr>\n",
              "    <tr>\n",
              "      <th>886</th>\n",
              "      <td>0</td>\n",
              "      <td>3</td>\n",
              "      <td>Rice, Mrs. William (Margaret Norton)</td>\n",
              "      <td>female</td>\n",
              "      <td>39.0</td>\n",
              "      <td>0</td>\n",
              "      <td>5</td>\n",
              "      <td>382652</td>\n",
              "      <td>29.1250</td>\n",
              "      <td>NaN</td>\n",
              "      <td>Q</td>\n",
              "    </tr>\n",
              "    <tr>\n",
              "      <th>887</th>\n",
              "      <td>0</td>\n",
              "      <td>2</td>\n",
              "      <td>Montvila, Rev. Juozas</td>\n",
              "      <td>male</td>\n",
              "      <td>27.0</td>\n",
              "      <td>0</td>\n",
              "      <td>0</td>\n",
              "      <td>211536</td>\n",
              "      <td>13.0000</td>\n",
              "      <td>NaN</td>\n",
              "      <td>S</td>\n",
              "    </tr>\n",
              "    <tr>\n",
              "      <th>888</th>\n",
              "      <td>1</td>\n",
              "      <td>1</td>\n",
              "      <td>Graham, Miss. Margaret Edith</td>\n",
              "      <td>female</td>\n",
              "      <td>19.0</td>\n",
              "      <td>0</td>\n",
              "      <td>0</td>\n",
              "      <td>112053</td>\n",
              "      <td>30.0000</td>\n",
              "      <td>B42</td>\n",
              "      <td>S</td>\n",
              "    </tr>\n",
              "    <tr>\n",
              "      <th>890</th>\n",
              "      <td>1</td>\n",
              "      <td>1</td>\n",
              "      <td>Behr, Mr. Karl Howell</td>\n",
              "      <td>male</td>\n",
              "      <td>26.0</td>\n",
              "      <td>0</td>\n",
              "      <td>0</td>\n",
              "      <td>111369</td>\n",
              "      <td>30.0000</td>\n",
              "      <td>C148</td>\n",
              "      <td>C</td>\n",
              "    </tr>\n",
              "    <tr>\n",
              "      <th>891</th>\n",
              "      <td>0</td>\n",
              "      <td>3</td>\n",
              "      <td>Dooley, Mr. Patrick</td>\n",
              "      <td>male</td>\n",
              "      <td>32.0</td>\n",
              "      <td>0</td>\n",
              "      <td>0</td>\n",
              "      <td>370376</td>\n",
              "      <td>7.7500</td>\n",
              "      <td>NaN</td>\n",
              "      <td>Q</td>\n",
              "    </tr>\n",
              "  </tbody>\n",
              "</table>\n",
              "<p>714 rows × 11 columns</p>\n",
              "</div>"
            ],
            "text/plain": [
              "             Survived  Pclass  ... Cabin Embarked\n",
              "PassengerId                    ...               \n",
              "1                   0       3  ...   NaN        S\n",
              "2                   1       1  ...   C85        C\n",
              "3                   1       3  ...   NaN        S\n",
              "4                   1       1  ...  C123        S\n",
              "5                   0       3  ...   NaN        S\n",
              "...               ...     ...  ...   ...      ...\n",
              "886                 0       3  ...   NaN        Q\n",
              "887                 0       2  ...   NaN        S\n",
              "888                 1       1  ...   B42        S\n",
              "890                 1       1  ...  C148        C\n",
              "891                 0       3  ...   NaN        Q\n",
              "\n",
              "[714 rows x 11 columns]"
            ]
          },
          "metadata": {
            "tags": []
          },
          "execution_count": 9
        }
      ]
    },
    {
      "cell_type": "markdown",
      "metadata": {
        "id": "-6ISbljjKM96"
      },
      "source": [
        "#### 9. Mostrar por pantalla la edad media de las mujeres que viajaban en cada clase.\n"
      ]
    },
    {
      "cell_type": "code",
      "metadata": {
        "colab": {
          "base_uri": "https://localhost:8080/"
        },
        "id": "Matcf0RpKNLo",
        "outputId": "300ca745-2ae2-499e-ffea-cdb02ea57ba6"
      },
      "source": [
        "# Mostrar la edad media de las mujeres que viajaban en cada clase.\n",
        "print(titanic.groupby(['Pclass','Sex'])['Age'].mean().unstack()['female'])"
      ],
      "execution_count": 14,
      "outputs": [
        {
          "output_type": "stream",
          "text": [
            "Pclass\n",
            "1    34.611765\n",
            "2    28.722973\n",
            "3    21.750000\n",
            "Name: female, dtype: float64\n"
          ],
          "name": "stdout"
        }
      ]
    },
    {
      "cell_type": "markdown",
      "metadata": {
        "id": "PKlKyHh1KVys"
      },
      "source": [
        "#### 10. Añadir una nueva columna booleana para ver si el pasajero era menor de edad o no.\n"
      ]
    },
    {
      "cell_type": "code",
      "metadata": {
        "id": "6HX-2TMoKWRl"
      },
      "source": [
        "# Añadir una nueva columna booleana para ver si el pasajero era menor de edad o no.\n",
        "titanic['Young'] = titanic['Age'] < 18"
      ],
      "execution_count": 15,
      "outputs": []
    },
    {
      "cell_type": "markdown",
      "metadata": {
        "id": "pehAxhjEKmPB"
      },
      "source": [
        "#### 11. Mostrar por pantalla el porcentaje de menores y mayores de edad que sobrevivieron en cada clase."
      ]
    },
    {
      "cell_type": "code",
      "metadata": {
        "colab": {
          "base_uri": "https://localhost:8080/"
        },
        "id": "bzExopdjKoJG",
        "outputId": "8d41aba2-8ed1-4ec2-92b5-dcaf7ec6c9b3"
      },
      "source": [
        "# Mostrar el porcentaje de menores y mayores de edad que sobrevivieron en cada clase.\n",
        "print(titanic.groupby(['Pclass', 'Young'])['Survived'].value_counts(normalize = True) * 100)"
      ],
      "execution_count": 16,
      "outputs": [
        {
          "output_type": "stream",
          "text": [
            "Pclass  Young  Survived\n",
            "1       False  1           61.274510\n",
            "               0           38.725490\n",
            "        True   1           91.666667\n",
            "               0            8.333333\n",
            "2       False  0           59.006211\n",
            "               1           40.993789\n",
            "        True   1           91.304348\n",
            "               0            8.695652\n",
            "3       False  0           78.208232\n",
            "               1           21.791768\n",
            "        True   0           62.820513\n",
            "               1           37.179487\n",
            "Name: Survived, dtype: float64\n"
          ],
          "name": "stdout"
        }
      ]
    }
  ]
}