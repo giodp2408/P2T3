{
  "nbformat": 4,
  "nbformat_minor": 0,
  "metadata": {
    "colab": {
      "name": "Ejercicio1",
      "provenance": [],
      "collapsed_sections": [],
      "authorship_tag": "ABX9TyNuPvXdMBH4qZOz/S2Y7QFX",
      "include_colab_link": true
    },
    "kernelspec": {
      "name": "python3",
      "display_name": "Python 3"
    },
    "language_info": {
      "name": "python"
    }
  },
  "cells": [
    {
      "cell_type": "markdown",
      "metadata": {
        "id": "view-in-github",
        "colab_type": "text"
      },
      "source": [
        "<a href=\"https://colab.research.google.com/github/giodp2408/P2T3/blob/main/Ejercicio1.ipynb\" target=\"_parent\"><img src=\"https://colab.research.google.com/assets/colab-badge.svg\" alt=\"Open In Colab\"/></a>"
      ]
    },
    {
      "cell_type": "markdown",
      "metadata": {
        "id": "-E-XgcUmHwAX"
      },
      "source": [
        "### **Ejercicio 1**\n",
        "\n",
        "###### Escribir un programa que pregunte al usuario por las ventas de un rango de años y muestre por pantalla una serie con los datos de las ventas indexada por los años, antes y después de aplicarles un descuento del 10%."
      ]
    },
    {
      "cell_type": "code",
      "metadata": {
        "colab": {
          "base_uri": "https://localhost:8080/"
        },
        "id": "evYcDpqeHwJW",
        "outputId": "14432244-11d5-4cb6-e53b-54ebaa317678"
      },
      "source": [
        "# Se importa la librería pandas\n",
        "import pandas as pd\n",
        "\n",
        "# Se utiliza un Try para evitar errores de valores introducidos invalidos\n",
        "try:\n",
        "  # Se pregunta cuando es el año inicial y se guarda en la variable\n",
        "  inicio = int(input('Teclea el año inicial: '))\n",
        "  # Se pregunta cuando es el año inicial y se guarda en la variable\n",
        "  fin = int(input('Teclea el año final: '))\n",
        "  print() # Salto de linea\n",
        "  # Se crea una variable que servira como diccionario\n",
        "  ventas = {}\n",
        "\n",
        "  # Dentro del ciclo FOR se preguntará por cada año cuanto fue de ventas\n",
        "  # El ciclo depende del año inicial y final\n",
        "  if fin > inicio:\n",
        "    for i in range(inicio, fin+1):\n",
        "      ventas[i] = float(input('Teclea las ventas del año ' + str(i) +': '))\n",
        "    print() # Salto de linea\n",
        "    resultado = True\n",
        "  else:\n",
        "    # Por introducir valores invalidos, imprime este mensaje\n",
        "    print(\"Los valores introducidos son invalidos\")\n",
        "    resultado = False\n",
        "except:\n",
        "  # Por introducir valores invalidos, imprime este mensaje\n",
        "  print(\"Los valores introducidos son invalidos\")\n",
        "  resultado = False\n",
        "\n",
        "if resultado == True:\n",
        "  # Se indexa los valores del diccionario\n",
        "  ventas = pd.Series(ventas)\n",
        "  # Se imprime el resultado de las ventas antes del descuento\n",
        "  print('Ventas:')\n",
        "  print(ventas,'\\n')\n",
        "  # Se imprime el resultado de las ventas con el descuento\n",
        "  print('Ventas con descuento')\n",
        "  print(ventas*0.9)"
      ],
      "execution_count": 23,
      "outputs": [
        {
          "output_type": "stream",
          "text": [
            "Teclea el año inicial: 2000\n",
            "Teclea el año final: 2003\n",
            "\n",
            "Teclea las ventas del año 2000: 200\n",
            "Teclea las ventas del año 2001: 305\n",
            "Teclea las ventas del año 2002: 400\n",
            "Teclea las ventas del año 2003: 600\n",
            "\n",
            "Ventas:\n",
            "2000    200.0\n",
            "2001    305.0\n",
            "2002    400.0\n",
            "2003    600.0\n",
            "dtype: float64 \n",
            "\n",
            "Ventas con descuento\n",
            "2000    180.0\n",
            "2001    274.5\n",
            "2002    360.0\n",
            "2003    540.0\n",
            "dtype: float64\n"
          ],
          "name": "stdout"
        }
      ]
    }
  ]
}